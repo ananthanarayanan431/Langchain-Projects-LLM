{
  "nbformat": 4,
  "nbformat_minor": 0,
  "metadata": {
    "colab": {
      "provenance": []
    },
    "kernelspec": {
      "name": "python3",
      "display_name": "Python 3"
    },
    "language_info": {
      "name": "python"
    }
  },
  "cells": [
    {
      "cell_type": "code",
      "execution_count": 1,
      "metadata": {
        "colab": {
          "base_uri": "https://localhost:8080/"
        },
        "id": "b6IzJvPCIKJm",
        "outputId": "8e87703c-5d69-4b3d-e163-819b8aa674eb"
      },
      "outputs": [
        {
          "output_type": "stream",
          "name": "stdout",
          "text": [
            "\u001b[2K   \u001b[90m━━━━━━━━━━━━━━━━━━━━━━━━━━━━━━━━━━━━━━━━\u001b[0m \u001b[32m15.5/15.5 MB\u001b[0m \u001b[31m47.8 MB/s\u001b[0m eta \u001b[36m0:00:00\u001b[0m\n",
            "\u001b[2K   \u001b[90m━━━━━━━━━━━━━━━━━━━━━━━━━━━━━━━━━━━━━━━━\u001b[0m \u001b[32m337.0/337.0 kB\u001b[0m \u001b[31m15.7 MB/s\u001b[0m eta \u001b[36m0:00:00\u001b[0m\n",
            "\u001b[2K   \u001b[90m━━━━━━━━━━━━━━━━━━━━━━━━━━━━━━━━━━━━━━━━\u001b[0m \u001b[32m75.6/75.6 kB\u001b[0m \u001b[31m4.2 MB/s\u001b[0m eta \u001b[36m0:00:00\u001b[0m\n",
            "\u001b[2K   \u001b[90m━━━━━━━━━━━━━━━━━━━━━━━━━━━━━━━━━━━━━━━━\u001b[0m \u001b[32m77.9/77.9 kB\u001b[0m \u001b[31m2.9 MB/s\u001b[0m eta \u001b[36m0:00:00\u001b[0m\n",
            "\u001b[2K   \u001b[90m━━━━━━━━━━━━━━━━━━━━━━━━━━━━━━━━━━━━━━━━\u001b[0m \u001b[32m1.1/1.1 MB\u001b[0m \u001b[31m27.9 MB/s\u001b[0m eta \u001b[36m0:00:00\u001b[0m\n",
            "\u001b[2K   \u001b[90m━━━━━━━━━━━━━━━━━━━━━━━━━━━━━━━━━━━━━━━━\u001b[0m \u001b[32m49.2/49.2 kB\u001b[0m \u001b[31m1.9 MB/s\u001b[0m eta \u001b[36m0:00:00\u001b[0m\n",
            "\u001b[2K   \u001b[90m━━━━━━━━━━━━━━━━━━━━━━━━━━━━━━━━━━━━━━━━\u001b[0m \u001b[32m58.3/58.3 kB\u001b[0m \u001b[31m2.9 MB/s\u001b[0m eta \u001b[36m0:00:00\u001b[0m\n",
            "\u001b[?25h"
          ]
        }
      ],
      "source": [
        "pip install -q llama-index-packs-mixture-of-agents"
      ]
    },
    {
      "cell_type": "code",
      "source": [
        "!pip install -q llama-index llama-index-llms-openai"
      ],
      "metadata": {
        "colab": {
          "base_uri": "https://localhost:8080/"
        },
        "id": "JuxYuk7KIZCu",
        "outputId": "f7b594df-aa71-4a7a-91b0-817dee9af0a5"
      },
      "execution_count": 2,
      "outputs": [
        {
          "output_type": "stream",
          "name": "stdout",
          "text": [
            "\u001b[2K   \u001b[90m━━━━━━━━━━━━━━━━━━━━━━━━━━━━━━━━━━━━━━━━\u001b[0m \u001b[32m2.0/2.0 MB\u001b[0m \u001b[31m10.2 MB/s\u001b[0m eta \u001b[36m0:00:00\u001b[0m\n",
            "\u001b[2K   \u001b[90m━━━━━━━━━━━━━━━━━━━━━━━━━━━━━━━━━━━━━━━━\u001b[0m \u001b[32m150.0/150.0 kB\u001b[0m \u001b[31m6.0 MB/s\u001b[0m eta \u001b[36m0:00:00\u001b[0m\n",
            "\u001b[2K   \u001b[90m━━━━━━━━━━━━━━━━━━━━━━━━━━━━━━━━━━━━━━━━\u001b[0m \u001b[32m295.8/295.8 kB\u001b[0m \u001b[31m6.2 MB/s\u001b[0m eta \u001b[36m0:00:00\u001b[0m\n",
            "\u001b[?25h"
          ]
        }
      ]
    },
    {
      "cell_type": "code",
      "source": [
        "!pip install -q llama-index-llms-mistralai"
      ],
      "metadata": {
        "id": "8EIpjmMRJZPK",
        "colab": {
          "base_uri": "https://localhost:8080/"
        },
        "outputId": "77c0cb87-7268-4172-b2ff-bd22336f3c41"
      },
      "execution_count": 3,
      "outputs": [
        {
          "output_type": "stream",
          "name": "stdout",
          "text": [
            "\u001b[2K     \u001b[90m━━━━━━━━━━━━━━━━━━━━━━━━━━━━━━━━━━━━━━━━\u001b[0m \u001b[32m50.4/50.4 kB\u001b[0m \u001b[31m1.0 MB/s\u001b[0m eta \u001b[36m0:00:00\u001b[0m\n",
            "\u001b[2K   \u001b[90m━━━━━━━━━━━━━━━━━━━━━━━━━━━━━━━━━━━━━━━━\u001b[0m \u001b[32m141.1/141.1 kB\u001b[0m \u001b[31m2.1 MB/s\u001b[0m eta \u001b[36m0:00:00\u001b[0m\n",
            "\u001b[?25h"
          ]
        }
      ]
    },
    {
      "cell_type": "code",
      "source": [
        "from llama_index.packs.mixture_of_agents import MixtureOfAgentsPack\n",
        "\n",
        "import nest_asyncio\n",
        "\n",
        "nest_asyncio.apply()"
      ],
      "metadata": {
        "id": "XdxFVQDpKRNu"
      },
      "execution_count": 4,
      "outputs": []
    },
    {
      "cell_type": "code",
      "source": [
        "from google.colab import userdata\n",
        "import os\n",
        "\n",
        "os.environ['OPENAI_API_KEY'] = userdata.get('OPENAI_API_KEY')\n",
        "os.environ['ANTHROPIC_API_KEY'] = userdata.get('ANTHROPIC_API_KEY')\n",
        "os.environ['GROQ_API_KEY']=userdata.get('GROQ_API_KEY')\n"
      ],
      "metadata": {
        "id": "LB1Eil7vKfyo"
      },
      "execution_count": 8,
      "outputs": []
    },
    {
      "cell_type": "code",
      "source": [
        "!pip install -q llama-index-llms-groq"
      ],
      "metadata": {
        "id": "vZBOZ6axKsF-"
      },
      "execution_count": 6,
      "outputs": []
    },
    {
      "cell_type": "code",
      "source": [
        "!pip install -q llama-index-llms-anthropic"
      ],
      "metadata": {
        "colab": {
          "base_uri": "https://localhost:8080/"
        },
        "id": "bxxHACYurA34",
        "outputId": "f9e4b043-91d5-47e8-b4c2-ac424e287b98"
      },
      "execution_count": 7,
      "outputs": [
        {
          "output_type": "stream",
          "name": "stdout",
          "text": [
            "\u001b[?25l   \u001b[90m━━━━━━━━━━━━━━━━━━━━━━━━━━━━━━━━━━━━━━━━\u001b[0m \u001b[32m0.0/862.7 kB\u001b[0m \u001b[31m?\u001b[0m eta \u001b[36m-:--:--\u001b[0m\r\u001b[2K   \u001b[91m━\u001b[0m\u001b[90m╺\u001b[0m\u001b[90m━━━━━━━━━━━━━━━━━━━━━━━━━━━━━━━━━━━━━━\u001b[0m \u001b[32m30.7/862.7 kB\u001b[0m \u001b[31m2.5 MB/s\u001b[0m eta \u001b[36m0:00:01\u001b[0m\r\u001b[2K   \u001b[91m━━━━━\u001b[0m\u001b[90m╺\u001b[0m\u001b[90m━━━━━━━━━━━━━━━━━━━━━━━━━━━━━━━━━━\u001b[0m \u001b[32m112.6/862.7 kB\u001b[0m \u001b[31m1.5 MB/s\u001b[0m eta \u001b[36m0:00:01\u001b[0m\r\u001b[2K   \u001b[91m━━━━━━━━━━━\u001b[0m\u001b[90m╺\u001b[0m\u001b[90m━━━━━━━━━━━━━━━━━━━━━━━━━━━━\u001b[0m \u001b[32m245.8/862.7 kB\u001b[0m \u001b[31m2.6 MB/s\u001b[0m eta \u001b[36m0:00:01\u001b[0m\r\u001b[2K   \u001b[91m━━━━━━━━━━━━━━━━━━━━━━━━━━\u001b[0m\u001b[90m╺\u001b[0m\u001b[90m━━━━━━━━━━━━━\u001b[0m \u001b[32m563.2/862.7 kB\u001b[0m \u001b[31m4.2 MB/s\u001b[0m eta \u001b[36m0:00:01\u001b[0m\r\u001b[2K   \u001b[90m━━━━━━━━━━━━━━━━━━━━━━━━━━━━━━━━━━━━━━━━\u001b[0m \u001b[32m862.7/862.7 kB\u001b[0m \u001b[31m4.8 MB/s\u001b[0m eta \u001b[36m0:00:00\u001b[0m\n",
            "\u001b[?25h\u001b[?25l   \u001b[90m━━━━━━━━━━━━━━━━━━━━━━━━━━━━━━━━━━━━━━━━\u001b[0m \u001b[32m0.0/318.9 kB\u001b[0m \u001b[31m?\u001b[0m eta \u001b[36m-:--:--\u001b[0m\r\u001b[2K   \u001b[90m━━━━━━━━━━━━━━━━━━━━━━━━━━━━━━━━━━━━━━━━\u001b[0m \u001b[32m318.9/318.9 kB\u001b[0m \u001b[31m18.3 MB/s\u001b[0m eta \u001b[36m0:00:00\u001b[0m\n",
            "\u001b[?25h"
          ]
        }
      ]
    },
    {
      "cell_type": "code",
      "source": [
        "from llama_index.llms.openai import OpenAI\n",
        "from llama_index.llms.anthropic import Anthropic\n",
        "from llama_index.llms.groq import Groq\n",
        "\n",
        "mixture_of_agents_pack = MixtureOfAgentsPack(\n",
        "    llm=OpenAI(temperature=0.7),\n",
        "    reference_llms=[\n",
        "      Anthropic(model=\"claude-3-opus-20240229\"),\n",
        "      Groq(model=\"llama3-70b-8192\",temperature=0.7),\n",
        "    ],\n",
        "    num_layers=3,\n",
        "    temperature=0.7,\n",
        ")"
      ],
      "metadata": {
        "id": "4qQyK1OLLm1j"
      },
      "execution_count": 10,
      "outputs": []
    },
    {
      "cell_type": "code",
      "source": [
        "response = mixture_of_agents_pack.run(\"How to Improve a Problem Solving skills?\")\n",
        "print(response)"
      ],
      "metadata": {
        "colab": {
          "base_uri": "https://localhost:8080/"
        },
        "id": "9XTlWfGhMbkY",
        "outputId": "381486c9-05ab-42fd-a708-582481806358"
      },
      "execution_count": 11,
      "outputs": [
        {
          "output_type": "stream",
          "name": "stdout",
          "text": [
            "assistant: Improving problem-solving skills is a valuable asset in both personal and professional life. Here is a refined guide to help enhance your problem-solving abilities:\n",
            "\n",
            "1. **Regular Practice**: Engage in activities like puzzles, brain teasers, logical reasoning exercises, and strategy games to challenge and develop critical thinking and analytical skills consistently.\n",
            "\n",
            "2. **Mindset Adjustment**: Cultivate a growth mindset that believes skills can be improved with effort and learning. Embrace challenges as opportunities for growth.\n",
            "\n",
            "3. **Decompose Complex Problems**: Break down intricate issues into smaller, manageable parts. Address each component step-by-step to make the overall problem less overwhelming.\n",
            "\n",
            "4. **Identify Root Causes**: Look beyond surface symptoms to understand the fundamental causes of problems. This understanding facilitates the development of effective solutions.\n",
            "\n",
            "5. **Brainstorm Solutions**: Encourage creative thinking by generating multiple solutions without immediate judgment. Explore various approaches and evaluate the pros and cons of each to prioritize the best options.\n",
            "\n",
            "6. **Learn from Others**: Observe and learn from how others approach problem-solving. Seek advice from experienced individuals to gain new perspectives and insights.\n",
            "\n",
            "7. **Embrace Failure**: Treat failures as learning opportunities. Analyze what went wrong, identify areas for improvement, and use these insights to refine problem-solving strategies for future challenges.\n",
            "\n",
            "8. **Critical Thinking**: Enhance skills in objectively analyzing information, questioning assumptions, and considering alternative viewpoints to make well-informed decisions.\n",
            "\n",
            "9. **Open-mindedness**: Be receptive to new ideas and willing to adapt your approach. Avoid getting stuck in rigid perspectives and be open to exploring different solutions.\n",
            "\n",
            "10. **Reflection and Continuous Improvement**: Reflect on completed problems to identify what worked well and what could be improved. Implement these learnings to optimize problem-solving approaches continuously.\n",
            "\n",
            "11. **Stay Informed**: Keep up-to-date with the latest developments in your field to anticipate and prepare for potential problems effectively.\n",
            "\n",
            "12. **Utilize Visual Aids**: Employ diagrams, flowcharts, or mind maps to organize thoughts and approach problems systematically.\n",
            "\n",
            "13. **Systematic Approach**: Establish a structured problem-solving methodology involving defining the problem, gathering information, analyzing data, generating solutions, evaluating and selecting the best option, implementing it, and monitoring results.\n",
            "\n",
            "14. **Celebrate Progress**: Acknowledge and celebrate small victories in problem-solving to stay motivated and incentivize further skill development.\n",
            "\n",
            "Remember to remain adaptable, learn from diverse perspectives, and continuously expand your knowledge base. By incorporating these strategies into your problem-solving approach, you can enhance your skills and become a more effective and efficient problem solver.\n"
          ]
        }
      ]
    },
    {
      "cell_type": "code",
      "source": [],
      "metadata": {
        "id": "H0v8U9cFNGrF"
      },
      "execution_count": null,
      "outputs": []
    }
  ]
}