{
  "nbformat": 4,
  "nbformat_minor": 0,
  "metadata": {
    "colab": {
      "provenance": []
    },
    "kernelspec": {
      "name": "python3",
      "display_name": "Python 3"
    },
    "language_info": {
      "name": "python"
    }
  },
  "cells": [
    {
      "cell_type": "code",
      "execution_count": 6,
      "metadata": {
        "id": "Mwm6aPuV2Hyz"
      },
      "outputs": [],
      "source": [
        "!pip install -q yt_dlp deeplake langchain openai"
      ]
    },
    {
      "cell_type": "code",
      "source": [
        "pip install -q openai-whisper"
      ],
      "metadata": {
        "id": "zuUidFaj2ddj"
      },
      "execution_count": 7,
      "outputs": []
    },
    {
      "cell_type": "code",
      "source": [
        "from google.colab import userdata\n",
        "import os\n",
        "os.environ['OPENAI_API_KEY'] = userdata.get('OPENAI_API_KEY')"
      ],
      "metadata": {
        "id": "BUp6JrYU3DCh"
      },
      "execution_count": 8,
      "outputs": []
    },
    {
      "cell_type": "code",
      "source": [
        "import yt_dlp\n",
        "\n",
        "def download_youtube(url):\n",
        "  filename=\"video.mp4\"\n",
        "  ydl_opts = {\n",
        "      'format': 'bestvideo[ext=mp4]+bestaudio[ext=m4a]/best[ext=mp4]',\n",
        "      'outtmpl': filename,\n",
        "      'quiet': True,\n",
        "  }\n",
        "\n",
        "  with yt_dlp.YoutubeDL(ydl_opts) as ydl:\n",
        "    result = ydl.extract_info(url, download=True)\n",
        "\n",
        "url = \"https://www.youtube.com/watch?v=aU-8BbPRqbo\"\n",
        "download_youtube(url)"
      ],
      "metadata": {
        "id": "bNzvaOwk2hu3"
      },
      "execution_count": 9,
      "outputs": []
    },
    {
      "cell_type": "code",
      "source": [
        "import whisper\n",
        "\n",
        "model = whisper.load_model(\"base\")\n",
        "result = model.transcribe(\"video.mp4\")"
      ],
      "metadata": {
        "id": "iEG4UU8w208W"
      },
      "execution_count": 42,
      "outputs": []
    },
    {
      "cell_type": "code",
      "source": [
        "!pip install -q langchain-openai langchain-community langchain-core"
      ],
      "metadata": {
        "id": "eZDXvU0v3AcO"
      },
      "execution_count": 42,
      "outputs": []
    },
    {
      "cell_type": "code",
      "source": [
        "from langchain_openai.chat_models import ChatOpenAI\n",
        "from langchain_core.prompts import ChatPromptTemplate\n",
        "from langchain_openai.embeddings import OpenAIEmbeddings\n",
        "from langchain_community.vectorstores import Chroma\n",
        "from langchain.schema.runnable import RunnablePassthrough\n",
        "\n",
        "from langchain_text_splitters import RecursiveCharacterTextSplitter\n",
        "\n",
        "content = result['text']\n",
        "llm=ChatOpenAI(model=\"gpt-4o-mini\")"
      ],
      "metadata": {
        "id": "gIOW2UMJDwMf"
      },
      "execution_count": 39,
      "outputs": []
    },
    {
      "cell_type": "code",
      "source": [
        "from langchain.schema import Document\n",
        "from langchain_community.document_loaders import TextLoader\n",
        "\n",
        "with open('content.txt','w') as file:\n",
        "  file.write(content)\n",
        "\n",
        "loader = TextLoader('content.txt')\n",
        "documents = loader.load()"
      ],
      "metadata": {
        "id": "WfT4UB96Fnnc"
      },
      "execution_count": 14,
      "outputs": []
    },
    {
      "cell_type": "code",
      "source": [
        "# print(documents[0])\n",
        "print(type(documents[0]))\n",
        "print(len(documents))"
      ],
      "metadata": {
        "colab": {
          "base_uri": "https://localhost:8080/",
          "height": 0
        },
        "id": "NQ-tbDtbGhhr",
        "outputId": "0be5902f-3cfd-4bc4-95ef-b1c68dea7e43"
      },
      "execution_count": 20,
      "outputs": [
        {
          "output_type": "stream",
          "name": "stdout",
          "text": [
            "<class 'langchain_core.documents.base.Document'>\n",
            "1\n"
          ]
        }
      ]
    },
    {
      "cell_type": "code",
      "source": [
        "text_splitter = RecursiveCharacterTextSplitter(\n",
        "    chunk_size=1000,\n",
        "    chunk_overlap=200,\n",
        "    length_function=len,\n",
        "    separators=[\"\\n\\n\", \"\\n\", \" \", \"\"]\n",
        ")\n",
        "\n",
        "splits = text_splitter.split_documents(documents)"
      ],
      "metadata": {
        "id": "Zh9yzi3IG2wW"
      },
      "execution_count": 21,
      "outputs": []
    },
    {
      "cell_type": "code",
      "source": [
        "print(len(splits))\n",
        "print(type(splits[0]))"
      ],
      "metadata": {
        "colab": {
          "base_uri": "https://localhost:8080/",
          "height": 0
        },
        "id": "m5HlOVt-HXgo",
        "outputId": "014f0b11-0af8-4618-b9cc-23ad15b66f86"
      },
      "execution_count": 22,
      "outputs": [
        {
          "output_type": "stream",
          "name": "stdout",
          "text": [
            "36\n",
            "<class 'langchain_core.documents.base.Document'>\n"
          ]
        }
      ]
    },
    {
      "cell_type": "code",
      "source": [
        "docs = [Document(page_content=t.page_content) for t in splits]\n",
        "print(len(docs))"
      ],
      "metadata": {
        "colab": {
          "base_uri": "https://localhost:8080/",
          "height": 0
        },
        "id": "TRy1-GvvHbHN",
        "outputId": "7a39848f-2754-48f6-abb6-12a930074f79"
      },
      "execution_count": 24,
      "outputs": [
        {
          "output_type": "stream",
          "name": "stdout",
          "text": [
            "36\n"
          ]
        }
      ]
    },
    {
      "cell_type": "markdown",
      "source": [
        "# **Summarization**"
      ],
      "metadata": {
        "id": "svMcYNKvIk3O"
      }
    },
    {
      "cell_type": "code",
      "source": [
        "from langchain_core.output_parsers import StrOutputParser\n",
        "from langchain_core.prompts import ChatPromptTemplate\n",
        "from langchain import hub\n",
        "import warnings\n",
        "warnings.filterwarnings(\"ignore\")\n",
        "\n",
        "template = hub.pull(\"rlm/map-prompt\")\n",
        "prompt = ChatPromptTemplate.from_messages(template.messages)\n",
        "\n",
        "chain = prompt | llm | StrOutputParser()\n",
        "print(chain.invoke(docs))"
      ],
      "metadata": {
        "colab": {
          "base_uri": "https://localhost:8080/",
          "height": 0
        },
        "id": "FytEP7e3He_0",
        "outputId": "7bfcd90a-02bf-4f79-f769-20fea5d2d58d"
      },
      "execution_count": 28,
      "outputs": [
        {
          "output_type": "stream",
          "name": "stdout",
          "text": [
            "Based on the provided documents, the main themes can be summarized as follows:\n",
            "\n",
            "1. **Entrepreneurship vs. Technical Skills**: The discussion emphasizes a common misconception known as the \"entrepreneurial myth,\" which suggests that individuals who are skilled in a technical domain (like baking or teaching) automatically possess the skills needed to run a successful business. The importance of balancing technical skills with entrepreneurial and managerial skills is highlighted.\n",
            "\n",
            "2. **The Triple Threat**: This theme revolves around the necessity for individuals in business to embody three distinct roles: the technician (the doer), the entrepreneur (the visionary), and the manager (the organizer). The success of a business relies on finding a balance among these roles.\n",
            "\n",
            "3. **The Infancy Trap**: This concept describes the stage where a business owner is primarily working in the business (as a technician) rather than on it (as an entrepreneur or manager). The discussion underscores the importance of transitioning from this stage to ensure the business can grow and thrive.\n",
            "\n",
            "4. **Systems and Processes**: The importance of creating systems to ensure that a business operates efficiently and consistently, similar to the operational model of franchises like McDonald's. It's crucial to build a framework where results are dependent on systems rather than individual talents.\n",
            "\n",
            "5. **Business Growth and Scalability**: The documents discuss the stages of business development (infancy, adolescence, and maturity) and the need for business owners to let go of sole control over technical tasks to pursue strategic growth and scalability.\n",
            "\n",
            "6. **Mindset Shift**: Emphasizes the need for entrepreneurs to shift their mindset from being hands-on in the technical aspects of their business to focusing on creating and refining the business as a product itself.\n",
            "\n",
            "7. **Automation and Efficiency**: The use of tools and automation (like the example of using Make) to streamline processes, save time, and allow business owners to focus on more strategic activities.\n",
            "\n",
            "8. **Learning from Experience**: The narrator shares personal experiences and lessons learned from their journey as an entrepreneur, providing insights into common pitfalls and the importance of continual learning and adaptation.\n",
            "\n",
            "These themes collectively provide a framework for understanding how to effectively build and manage a successful business while avoiding common traps faced by many new entrepreneurs.\n"
          ]
        }
      ]
    },
    {
      "cell_type": "code",
      "source": [
        "print(template[0])"
      ],
      "metadata": {
        "colab": {
          "base_uri": "https://localhost:8080/",
          "height": 0
        },
        "id": "uHP_NE10KGgj",
        "outputId": "d3430bee-609d-4d7b-9782-55acb4de32de"
      },
      "execution_count": 34,
      "outputs": [
        {
          "output_type": "stream",
          "name": "stdout",
          "text": [
            "prompt=PromptTemplate(input_variables=['docs'], input_types={}, partial_variables={}, template='The following is a set of documents:\\n{docs}\\nBased on this list of docs, please identify the main themes \\nHelpful Answer:') additional_kwargs={}\n"
          ]
        }
      ]
    },
    {
      "cell_type": "markdown",
      "source": [
        "# **Ask Any Question**"
      ],
      "metadata": {
        "id": "p-xTXjKXLoUJ"
      }
    },
    {
      "cell_type": "code",
      "source": [
        "!pip install -q chromadb"
      ],
      "metadata": {
        "id": "2tN1fzZJMMA6"
      },
      "execution_count": 42,
      "outputs": []
    },
    {
      "cell_type": "code",
      "source": [
        "vectorstore = Chroma.from_documents(\n",
        "    documents=docs,\n",
        "    embedding=OpenAIEmbeddings()\n",
        ")\n",
        "\n",
        "retriever = vectorstore.as_retriever()\n",
        "\n",
        "template = \"\"\"\n",
        "Answer the question based only on the following context:\n",
        "{context}\n",
        "\n",
        "Question: {question}\n",
        "\"\"\""
      ],
      "metadata": {
        "id": "3cMsYd1hLG_r"
      },
      "execution_count": 38,
      "outputs": []
    },
    {
      "cell_type": "code",
      "source": [
        "prompt = ChatPromptTemplate.from_template(template)\n",
        "\n",
        "chain = (\n",
        "    {'context':retriever, \"question\":RunnablePassthrough()}\n",
        "    | prompt\n",
        "    | llm\n",
        "    | StrOutputParser()\n",
        ")"
      ],
      "metadata": {
        "id": "GC2Um_D_MB8b"
      },
      "execution_count": 40,
      "outputs": []
    },
    {
      "cell_type": "code",
      "source": [
        "while True:\n",
        "    user_input = input(\"User: \")\n",
        "    if user_input.lower() in [\"quit\", \"exit\", \"q\"]:\n",
        "        break\n",
        "    else:\n",
        "        print(\"Bot:\", chain.invoke(user_input))"
      ],
      "metadata": {
        "colab": {
          "base_uri": "https://localhost:8080/",
          "height": 0
        },
        "id": "HEHFXw1JMfj2",
        "outputId": "55dc4a6a-9282-412f-afe4-8f950267bf69"
      },
      "execution_count": 41,
      "outputs": [
        {
          "name": "stdout",
          "output_type": "stream",
          "text": [
            "User: tell me theme\n",
            "Bot: The theme of the context revolves around the challenges and realities of entrepreneurship, particularly the balance between pursuing one's passion (like baking pies) and managing the various responsibilities that come with running a successful business. It highlights the importance of understanding business dynamics, such as marketing, finance, and leadership, while also addressing the personal desires of entrepreneurs to focus solely on their craft. The narrative emphasizes that to thrive as a business owner, one must engage with all aspects of the business rather than just the technical work they love.\n",
            "User: q\n"
          ]
        }
      ]
    },
    {
      "cell_type": "code",
      "source": [],
      "metadata": {
        "id": "aDSsojGGMnFR"
      },
      "execution_count": 41,
      "outputs": []
    }
  ]
}