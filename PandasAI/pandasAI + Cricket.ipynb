{
 "cells": [
  {
   "cell_type": "markdown",
   "id": "3387cc05",
   "metadata": {},
   "source": [
    "# PandasAI + Cricket"
   ]
  },
  {
   "cell_type": "code",
   "execution_count": 43,
   "id": "84e6c6bf",
   "metadata": {},
   "outputs": [],
   "source": [
    "!pip install -q pandasai"
   ]
  },
  {
   "cell_type": "code",
   "execution_count": 71,
   "id": "bab68d87",
   "metadata": {},
   "outputs": [],
   "source": [
    "import os\n",
    "import pandas as pd\n",
    "\n",
    "os.environ['PANDASAI_API_KEY']=\"<YOUR KEY>\""
   ]
  },
  {
   "cell_type": "code",
   "execution_count": 45,
   "id": "24cc084d",
   "metadata": {},
   "outputs": [],
   "source": [
    "import numpy as np\n",
    "import matplotlib.pyplot as plt\n",
    "import seaborn as sns\n",
    "\n",
    "import warnings\n",
    "warnings.filterwarnings('ignore')"
   ]
  },
  {
   "cell_type": "code",
   "execution_count": 46,
   "id": "be3e2089",
   "metadata": {},
   "outputs": [
    {
     "data": {
      "text/html": [
       "<div>\n",
       "<style scoped>\n",
       "    .dataframe tbody tr th:only-of-type {\n",
       "        vertical-align: middle;\n",
       "    }\n",
       "\n",
       "    .dataframe tbody tr th {\n",
       "        vertical-align: top;\n",
       "    }\n",
       "\n",
       "    .dataframe thead th {\n",
       "        text-align: right;\n",
       "    }\n",
       "</style>\n",
       "<table border=\"1\" class=\"dataframe\">\n",
       "  <thead>\n",
       "    <tr style=\"text-align: right;\">\n",
       "      <th></th>\n",
       "      <th>Batsman</th>\n",
       "      <th>Dismissal</th>\n",
       "      <th>Run</th>\n",
       "      <th>Balls</th>\n",
       "      <th>4s</th>\n",
       "      <th>6s</th>\n",
       "      <th>SR</th>\n",
       "    </tr>\n",
       "  </thead>\n",
       "  <tbody>\n",
       "    <tr>\n",
       "      <th>1</th>\n",
       "      <td>Rahmanullah Gurbaz</td>\n",
       "      <td>c Soumya Sarkar b Rishad Hossain</td>\n",
       "      <td>43</td>\n",
       "      <td>55</td>\n",
       "      <td>3</td>\n",
       "      <td>1</td>\n",
       "      <td>78.18</td>\n",
       "    </tr>\n",
       "    <tr>\n",
       "      <th>2</th>\n",
       "      <td>Ibrahim Zadran</td>\n",
       "      <td>c Tanzim Hasan Sakib b Rishad Hossain</td>\n",
       "      <td>18</td>\n",
       "      <td>29</td>\n",
       "      <td>1</td>\n",
       "      <td>0</td>\n",
       "      <td>78.18</td>\n",
       "    </tr>\n",
       "    <tr>\n",
       "      <th>3</th>\n",
       "      <td>Azmatullah Omarzai</td>\n",
       "      <td>c Litton Das b Mustafizur</td>\n",
       "      <td>10</td>\n",
       "      <td>12</td>\n",
       "      <td>0</td>\n",
       "      <td>0</td>\n",
       "      <td>83.33</td>\n",
       "    </tr>\n",
       "    <tr>\n",
       "      <th>4</th>\n",
       "      <td>Gulbadin Naib</td>\n",
       "      <td>c Soumya Sarkar b Rishad Hossain</td>\n",
       "      <td>4</td>\n",
       "      <td>3</td>\n",
       "      <td>1</td>\n",
       "      <td>1</td>\n",
       "      <td>133.33</td>\n",
       "    </tr>\n",
       "    <tr>\n",
       "      <th>5</th>\n",
       "      <td>Mohammad Nabi</td>\n",
       "      <td>c Shanto b Taskin Ahmed</td>\n",
       "      <td>1</td>\n",
       "      <td>5</td>\n",
       "      <td>0</td>\n",
       "      <td>0</td>\n",
       "      <td>20.00</td>\n",
       "    </tr>\n",
       "    <tr>\n",
       "      <th>6</th>\n",
       "      <td>Karim Janat</td>\n",
       "      <td>Not Out</td>\n",
       "      <td>7</td>\n",
       "      <td>6</td>\n",
       "      <td>1</td>\n",
       "      <td>0</td>\n",
       "      <td>116.67</td>\n",
       "    </tr>\n",
       "    <tr>\n",
       "      <th>7</th>\n",
       "      <td>Rashid Khan (c)</td>\n",
       "      <td>Not Out</td>\n",
       "      <td>19</td>\n",
       "      <td>10</td>\n",
       "      <td>0</td>\n",
       "      <td>3</td>\n",
       "      <td>190.00</td>\n",
       "    </tr>\n",
       "  </tbody>\n",
       "</table>\n",
       "</div>"
      ],
      "text/plain": [
       "              Batsman                              Dismissal  Run  Balls  4s  \\\n",
       "1  Rahmanullah Gurbaz       c Soumya Sarkar b Rishad Hossain   43     55   3   \n",
       "2      Ibrahim Zadran  c Tanzim Hasan Sakib b Rishad Hossain   18     29   1   \n",
       "3  Azmatullah Omarzai              c Litton Das b Mustafizur   10     12   0   \n",
       "4       Gulbadin Naib       c Soumya Sarkar b Rishad Hossain    4      3   1   \n",
       "5       Mohammad Nabi                c Shanto b Taskin Ahmed    1      5   0   \n",
       "6         Karim Janat                                Not Out    7      6   1   \n",
       "7     Rashid Khan (c)                                Not Out   19     10   0   \n",
       "\n",
       "   6s      SR  \n",
       "1   1   78.18  \n",
       "2   0   78.18  \n",
       "3   0   83.33  \n",
       "4   1  133.33  \n",
       "5   0   20.00  \n",
       "6   0  116.67  \n",
       "7   3  190.00  "
      ]
     },
     "execution_count": 46,
     "metadata": {},
     "output_type": "execute_result"
    }
   ],
   "source": [
    "afg_innings_data={\n",
    "    \"Batsman\":[\"Rahmanullah Gurbaz\",\"Ibrahim Zadran\",\"Azmatullah Omarzai\",\"Gulbadin Naib\",\"Mohammad Nabi\",\"Karim Janat\",\"Rashid Khan (c)\"],\n",
    "    \"Dismissal\":[\"c Soumya Sarkar b Rishad Hossain\",\"c Tanzim Hasan Sakib b Rishad Hossain\",\"c Litton Das b Mustafizur\",\"c Soumya Sarkar b Rishad Hossain\",\"c Shanto b Taskin Ahmed\",\"Not Out\",\"Not Out\"],\n",
    "    \"Run\":[43,18,10,4,1,7,19],\n",
    "    \"Balls\":[55,29,12,3,5,6,10],\n",
    "    \"4s\": [3, 1, 0, 1, 0, 1, 0],\n",
    "    \"6s\": [1, 0, 0, 1, 0, 0, 3],\n",
    "    \"SR\": [78.18, 78.18, 83.33, 133.33, 20.00, 116.67, 190.00]\n",
    "}\n",
    "\n",
    "afg_innings_df=pd.DataFrame(afg_innings_data,index=[1,2,3,4,5,6,7])\n",
    "afg_innings_df"
   ]
  },
  {
   "cell_type": "code",
   "execution_count": 47,
   "id": "20cafa22",
   "metadata": {},
   "outputs": [
    {
     "data": {
      "text/html": [
       "<div>\n",
       "<style scoped>\n",
       "    .dataframe tbody tr th:only-of-type {\n",
       "        vertical-align: middle;\n",
       "    }\n",
       "\n",
       "    .dataframe tbody tr th {\n",
       "        vertical-align: top;\n",
       "    }\n",
       "\n",
       "    .dataframe thead th {\n",
       "        text-align: right;\n",
       "    }\n",
       "</style>\n",
       "<table border=\"1\" class=\"dataframe\">\n",
       "  <thead>\n",
       "    <tr style=\"text-align: right;\">\n",
       "      <th></th>\n",
       "      <th>Batsman</th>\n",
       "      <th>Dismissal</th>\n",
       "      <th>Run</th>\n",
       "      <th>Balls</th>\n",
       "      <th>4s</th>\n",
       "      <th>6s</th>\n",
       "      <th>SR</th>\n",
       "    </tr>\n",
       "  </thead>\n",
       "  <tbody>\n",
       "    <tr>\n",
       "      <th>1</th>\n",
       "      <td>Litton Das (wk)</td>\n",
       "      <td>Not Out</td>\n",
       "      <td>54</td>\n",
       "      <td>49</td>\n",
       "      <td>5</td>\n",
       "      <td>1</td>\n",
       "      <td>110.20</td>\n",
       "    </tr>\n",
       "    <tr>\n",
       "      <th>2</th>\n",
       "      <td>Tanzid Hasan</td>\n",
       "      <td>lbw b Fazalhaq Farooqi</td>\n",
       "      <td>0</td>\n",
       "      <td>3</td>\n",
       "      <td>0</td>\n",
       "      <td>0</td>\n",
       "      <td>0.00</td>\n",
       "    </tr>\n",
       "    <tr>\n",
       "      <th>3</th>\n",
       "      <td>Najmul Hossain Shanto (c)</td>\n",
       "      <td>c Nabi b Naveen-ul-Haq</td>\n",
       "      <td>5</td>\n",
       "      <td>5</td>\n",
       "      <td>1</td>\n",
       "      <td>0</td>\n",
       "      <td>100.00</td>\n",
       "    </tr>\n",
       "    <tr>\n",
       "      <th>4</th>\n",
       "      <td>Shakib Al Hasan</td>\n",
       "      <td>c and b Naveen-ul-Haq</td>\n",
       "      <td>0</td>\n",
       "      <td>1</td>\n",
       "      <td>0</td>\n",
       "      <td>0</td>\n",
       "      <td>0.00</td>\n",
       "    </tr>\n",
       "    <tr>\n",
       "      <th>5</th>\n",
       "      <td>Soumya Sarkar</td>\n",
       "      <td>b Rashid Khan</td>\n",
       "      <td>10</td>\n",
       "      <td>10</td>\n",
       "      <td>1</td>\n",
       "      <td>0</td>\n",
       "      <td>100.00</td>\n",
       "    </tr>\n",
       "    <tr>\n",
       "      <th>6</th>\n",
       "      <td>Towhid Hridoy</td>\n",
       "      <td>c Ibrahim Zadran b Rashid Khan</td>\n",
       "      <td>14</td>\n",
       "      <td>9</td>\n",
       "      <td>2</td>\n",
       "      <td>0</td>\n",
       "      <td>155.56</td>\n",
       "    </tr>\n",
       "    <tr>\n",
       "      <th>7</th>\n",
       "      <td>Mahmudullah</td>\n",
       "      <td>c (sub)Mohammad Ishaq b Rashid Khan</td>\n",
       "      <td>6</td>\n",
       "      <td>9</td>\n",
       "      <td>1</td>\n",
       "      <td>0</td>\n",
       "      <td>66.67</td>\n",
       "    </tr>\n",
       "    <tr>\n",
       "      <th>8</th>\n",
       "      <td>Rishad Hossain</td>\n",
       "      <td>b Rashid Khan</td>\n",
       "      <td>0</td>\n",
       "      <td>1</td>\n",
       "      <td>0</td>\n",
       "      <td>0</td>\n",
       "      <td>0.00</td>\n",
       "    </tr>\n",
       "    <tr>\n",
       "      <th>9</th>\n",
       "      <td>Tanzim Hasan Sakib</td>\n",
       "      <td>c Nabi b Gulbadin</td>\n",
       "      <td>3</td>\n",
       "      <td>10</td>\n",
       "      <td>0</td>\n",
       "      <td>0</td>\n",
       "      <td>30.00</td>\n",
       "    </tr>\n",
       "    <tr>\n",
       "      <th>10</th>\n",
       "      <td>Taskin Ahmed</td>\n",
       "      <td>b Naveen-ul-Haq</td>\n",
       "      <td>2</td>\n",
       "      <td>9</td>\n",
       "      <td>0</td>\n",
       "      <td>0</td>\n",
       "      <td>22.22</td>\n",
       "    </tr>\n",
       "    <tr>\n",
       "      <th>11</th>\n",
       "      <td>Mustafizur Rahman</td>\n",
       "      <td>lbw b Naveen-ul-Haq</td>\n",
       "      <td>0</td>\n",
       "      <td>1</td>\n",
       "      <td>0</td>\n",
       "      <td>0</td>\n",
       "      <td>0.00</td>\n",
       "    </tr>\n",
       "  </tbody>\n",
       "</table>\n",
       "</div>"
      ],
      "text/plain": [
       "                      Batsman                            Dismissal  Run  \\\n",
       "1             Litton Das (wk)                              Not Out   54   \n",
       "2                Tanzid Hasan               lbw b Fazalhaq Farooqi    0   \n",
       "3   Najmul Hossain Shanto (c)               c Nabi b Naveen-ul-Haq    5   \n",
       "4             Shakib Al Hasan                c and b Naveen-ul-Haq    0   \n",
       "5               Soumya Sarkar                        b Rashid Khan   10   \n",
       "6               Towhid Hridoy       c Ibrahim Zadran b Rashid Khan   14   \n",
       "7                 Mahmudullah  c (sub)Mohammad Ishaq b Rashid Khan    6   \n",
       "8              Rishad Hossain                        b Rashid Khan    0   \n",
       "9          Tanzim Hasan Sakib                    c Nabi b Gulbadin    3   \n",
       "10               Taskin Ahmed                      b Naveen-ul-Haq    2   \n",
       "11          Mustafizur Rahman                  lbw b Naveen-ul-Haq    0   \n",
       "\n",
       "    Balls  4s  6s      SR  \n",
       "1      49   5   1  110.20  \n",
       "2       3   0   0    0.00  \n",
       "3       5   1   0  100.00  \n",
       "4       1   0   0    0.00  \n",
       "5      10   1   0  100.00  \n",
       "6       9   2   0  155.56  \n",
       "7       9   1   0   66.67  \n",
       "8       1   0   0    0.00  \n",
       "9      10   0   0   30.00  \n",
       "10      9   0   0   22.22  \n",
       "11      1   0   0    0.00  "
      ]
     },
     "execution_count": 47,
     "metadata": {},
     "output_type": "execute_result"
    }
   ],
   "source": [
    "ban_innings_data={\n",
    "    \"Batsman\":[\"Litton Das (wk)\",\"Tanzid Hasan\",\"Najmul Hossain Shanto (c)\",\"Shakib Al Hasan\",\"Soumya Sarkar\",\"Towhid Hridoy\",\"Mahmudullah\",\"Rishad Hossain\",\"Tanzim Hasan Sakib\",\"Taskin Ahmed\",\"Mustafizur Rahman\"],\n",
    "    \"Dismissal\":[\"Not Out\",\"lbw b Fazalhaq Farooqi\",\"c Nabi b Naveen-ul-Haq\",\"c and b Naveen-ul-Haq\",\"b Rashid Khan\",\"c Ibrahim Zadran b Rashid Khan\",\"c (sub)Mohammad Ishaq b Rashid Khan\",\"b Rashid Khan\",\"c Nabi b Gulbadin\",\"b Naveen-ul-Haq\",\"lbw b Naveen-ul-Haq\"],\n",
    "    \"Run\":[54,0,5,0,10,14,6,0,3,2,0],\n",
    "    \"Balls\":[49,3,5,1,10,9,9,1,10,9,1],\n",
    "    \"4s\": [5, 0, 1, 0, 1, 2, 1, 0, 0, 0, 0],\n",
    "    \"6s\": [1, 0, 0, 0, 0, 0, 0, 0, 0, 0, 0],\n",
    "    \"SR\": [110.20, 0.00, 100.00, 0.00, 100.00, 155.56, 66.67, 0.00, 30.00, 22.22, 0.00]\n",
    "}\n",
    "ban_innings_df=pd.DataFrame(ban_innings_data,index=[1,2,3,4,5,6,7,8,9,10,11])\n",
    "ban_innings_df"
   ]
  },
  {
   "cell_type": "code",
   "execution_count": 48,
   "id": "270b8258",
   "metadata": {},
   "outputs": [
    {
     "data": {
      "text/html": [
       "<div>\n",
       "<style scoped>\n",
       "    .dataframe tbody tr th:only-of-type {\n",
       "        vertical-align: middle;\n",
       "    }\n",
       "\n",
       "    .dataframe tbody tr th {\n",
       "        vertical-align: top;\n",
       "    }\n",
       "\n",
       "    .dataframe thead th {\n",
       "        text-align: right;\n",
       "    }\n",
       "</style>\n",
       "<table border=\"1\" class=\"dataframe\">\n",
       "  <thead>\n",
       "    <tr style=\"text-align: right;\">\n",
       "      <th></th>\n",
       "      <th>Bowler</th>\n",
       "      <th>Overs</th>\n",
       "      <th>Maidens</th>\n",
       "      <th>Runs</th>\n",
       "      <th>Wickets</th>\n",
       "      <th>Econ</th>\n",
       "      <th>0s</th>\n",
       "      <th>4s</th>\n",
       "      <th>6s</th>\n",
       "      <th>WD</th>\n",
       "      <th>NB</th>\n",
       "    </tr>\n",
       "  </thead>\n",
       "  <tbody>\n",
       "    <tr>\n",
       "      <th>1</th>\n",
       "      <td>Naveen-ul-Haq</td>\n",
       "      <td>3.5</td>\n",
       "      <td>0</td>\n",
       "      <td>26</td>\n",
       "      <td>4</td>\n",
       "      <td>6.8</td>\n",
       "      <td>12</td>\n",
       "      <td>3</td>\n",
       "      <td>1</td>\n",
       "      <td>0</td>\n",
       "      <td>0</td>\n",
       "    </tr>\n",
       "    <tr>\n",
       "      <th>2</th>\n",
       "      <td>Fazalhaq Farooqi</td>\n",
       "      <td>2.0</td>\n",
       "      <td>0</td>\n",
       "      <td>15</td>\n",
       "      <td>1</td>\n",
       "      <td>7.5</td>\n",
       "      <td>3</td>\n",
       "      <td>1</td>\n",
       "      <td>0</td>\n",
       "      <td>2</td>\n",
       "      <td>0</td>\n",
       "    </tr>\n",
       "    <tr>\n",
       "      <th>3</th>\n",
       "      <td>Mohammad Nabi</td>\n",
       "      <td>2.0</td>\n",
       "      <td>0</td>\n",
       "      <td>15</td>\n",
       "      <td>0</td>\n",
       "      <td>7.5</td>\n",
       "      <td>5</td>\n",
       "      <td>2</td>\n",
       "      <td>0</td>\n",
       "      <td>0</td>\n",
       "      <td>0</td>\n",
       "    </tr>\n",
       "    <tr>\n",
       "      <th>4</th>\n",
       "      <td>Rashid Khan (c)</td>\n",
       "      <td>4.0</td>\n",
       "      <td>0</td>\n",
       "      <td>23</td>\n",
       "      <td>4</td>\n",
       "      <td>5.8</td>\n",
       "      <td>9</td>\n",
       "      <td>2</td>\n",
       "      <td>0</td>\n",
       "      <td>1</td>\n",
       "      <td>0</td>\n",
       "    </tr>\n",
       "    <tr>\n",
       "      <th>5</th>\n",
       "      <td>Noor Ahmad</td>\n",
       "      <td>4.0</td>\n",
       "      <td>0</td>\n",
       "      <td>13</td>\n",
       "      <td>0</td>\n",
       "      <td>3.2</td>\n",
       "      <td>18</td>\n",
       "      <td>2</td>\n",
       "      <td>0</td>\n",
       "      <td>0</td>\n",
       "      <td>0</td>\n",
       "    </tr>\n",
       "    <tr>\n",
       "      <th>6</th>\n",
       "      <td>Gulbadin Naib</td>\n",
       "      <td>2.0</td>\n",
       "      <td>0</td>\n",
       "      <td>5</td>\n",
       "      <td>1</td>\n",
       "      <td>2.5</td>\n",
       "      <td>7</td>\n",
       "      <td>0</td>\n",
       "      <td>0</td>\n",
       "      <td>0</td>\n",
       "      <td>0</td>\n",
       "    </tr>\n",
       "  </tbody>\n",
       "</table>\n",
       "</div>"
      ],
      "text/plain": [
       "             Bowler  Overs  Maidens  Runs  Wickets  Econ  0s  4s  6s  WD  NB\n",
       "1     Naveen-ul-Haq    3.5        0    26        4   6.8  12   3   1   0   0\n",
       "2  Fazalhaq Farooqi    2.0        0    15        1   7.5   3   1   0   2   0\n",
       "3     Mohammad Nabi    2.0        0    15        0   7.5   5   2   0   0   0\n",
       "4   Rashid Khan (c)    4.0        0    23        4   5.8   9   2   0   1   0\n",
       "5        Noor Ahmad    4.0        0    13        0   3.2  18   2   0   0   0\n",
       "6     Gulbadin Naib    2.0        0     5        1   2.5   7   0   0   0   0"
      ]
     },
     "execution_count": 48,
     "metadata": {},
     "output_type": "execute_result"
    }
   ],
   "source": [
    "afg_bowling_data={\n",
    "    \"Bowler\":[\"Naveen-ul-Haq\",\"Fazalhaq Farooqi\",\"Mohammad Nabi\",\"Rashid Khan (c)\",\"Noor Ahmad\",\"Gulbadin Naib\"],\n",
    "    \"Overs\":[3.5,2,2,4,4,2],\n",
    "    \"Maidens\":[0,0,0,0,0,0],\n",
    "    \"Runs\":[26,15,15,23,13,5],\n",
    "    \"Wickets\":[4,1,0,4,0,1],\n",
    "    \"Econ\":[6.80,7.50,7.50,5.80,3.20,2.50],\n",
    "    \"0s\":[12,3,5,9,18,7],\n",
    "    \"4s\":[3,1,2,2,2,0],\n",
    "    \"6s\":[1,0,0,0,0,0],\n",
    "    \"WD\":[0,2,0,1,0,0],\n",
    "    \"NB\":[0,0,0,0,0,0],\n",
    "}\n",
    "\n",
    "afg_bowling_data_df=pd.DataFrame(afg_bowling_data,index=[1,2,3,4,5,6])\n",
    "afg_bowling_data_df"
   ]
  },
  {
   "cell_type": "code",
   "execution_count": 49,
   "id": "7f36b87a",
   "metadata": {},
   "outputs": [
    {
     "data": {
      "text/html": [
       "<div>\n",
       "<style scoped>\n",
       "    .dataframe tbody tr th:only-of-type {\n",
       "        vertical-align: middle;\n",
       "    }\n",
       "\n",
       "    .dataframe tbody tr th {\n",
       "        vertical-align: top;\n",
       "    }\n",
       "\n",
       "    .dataframe thead th {\n",
       "        text-align: right;\n",
       "    }\n",
       "</style>\n",
       "<table border=\"1\" class=\"dataframe\">\n",
       "  <thead>\n",
       "    <tr style=\"text-align: right;\">\n",
       "      <th></th>\n",
       "      <th>Bowler</th>\n",
       "      <th>Maidens</th>\n",
       "      <th>Runs</th>\n",
       "      <th>Wickets</th>\n",
       "      <th>Econ</th>\n",
       "      <th>0s</th>\n",
       "      <th>4s</th>\n",
       "      <th>6s</th>\n",
       "      <th>WD</th>\n",
       "      <th>NB</th>\n",
       "    </tr>\n",
       "  </thead>\n",
       "  <tbody>\n",
       "    <tr>\n",
       "      <th>1</th>\n",
       "      <td>Tanzim Hasan Sakib</td>\n",
       "      <td>0</td>\n",
       "      <td>36</td>\n",
       "      <td>0</td>\n",
       "      <td>9.00</td>\n",
       "      <td>9</td>\n",
       "      <td>1</td>\n",
       "      <td>2</td>\n",
       "      <td>1</td>\n",
       "      <td>0</td>\n",
       "    </tr>\n",
       "    <tr>\n",
       "      <th>2</th>\n",
       "      <td>Taskin Ahmed</td>\n",
       "      <td>1</td>\n",
       "      <td>12</td>\n",
       "      <td>1</td>\n",
       "      <td>3.00</td>\n",
       "      <td>19</td>\n",
       "      <td>0</td>\n",
       "      <td>1</td>\n",
       "      <td>0</td>\n",
       "      <td>0</td>\n",
       "    </tr>\n",
       "    <tr>\n",
       "      <th>3</th>\n",
       "      <td>Shakib Al Hasan</td>\n",
       "      <td>0</td>\n",
       "      <td>19</td>\n",
       "      <td>0</td>\n",
       "      <td>4.75</td>\n",
       "      <td>11</td>\n",
       "      <td>0</td>\n",
       "      <td>1</td>\n",
       "      <td>0</td>\n",
       "      <td>0</td>\n",
       "    </tr>\n",
       "    <tr>\n",
       "      <th>4</th>\n",
       "      <td>Mustafizur Rahman</td>\n",
       "      <td>0</td>\n",
       "      <td>17</td>\n",
       "      <td>1</td>\n",
       "      <td>4.25</td>\n",
       "      <td>14</td>\n",
       "      <td>2</td>\n",
       "      <td>0</td>\n",
       "      <td>0</td>\n",
       "      <td>0</td>\n",
       "    </tr>\n",
       "    <tr>\n",
       "      <th>5</th>\n",
       "      <td>Rishad Hossain</td>\n",
       "      <td>0</td>\n",
       "      <td>26</td>\n",
       "      <td>3</td>\n",
       "      <td>6.50</td>\n",
       "      <td>13</td>\n",
       "      <td>3</td>\n",
       "      <td>0</td>\n",
       "      <td>1</td>\n",
       "      <td>0</td>\n",
       "    </tr>\n",
       "  </tbody>\n",
       "</table>\n",
       "</div>"
      ],
      "text/plain": [
       "               Bowler  Maidens  Runs  Wickets  Econ  0s  4s  6s  WD  NB\n",
       "1  Tanzim Hasan Sakib        0    36        0  9.00   9   1   2   1   0\n",
       "2        Taskin Ahmed        1    12        1  3.00  19   0   1   0   0\n",
       "3     Shakib Al Hasan        0    19        0  4.75  11   0   1   0   0\n",
       "4   Mustafizur Rahman        0    17        1  4.25  14   2   0   0   0\n",
       "5      Rishad Hossain        0    26        3  6.50  13   3   0   1   0"
      ]
     },
     "execution_count": 49,
     "metadata": {},
     "output_type": "execute_result"
    }
   ],
   "source": [
    "ban_bowling_data={\n",
    "    \"Bowler\":[\"Tanzim Hasan Sakib\",\"Taskin Ahmed\",\"Shakib Al Hasan\",\"Mustafizur Rahman\",\"Rishad Hossain\"],\n",
    "    \"Maidens\":[0,1,0,0,0],\n",
    "    \"Runs\":[36,12,19,17,26],\n",
    "    \"Wickets\":[0,1,0,1,3],\n",
    "    \"Econ\":[9.00,3.00,4.75,4.25,6.50],\n",
    "    \"0s\":[9,19,11,14,13],\n",
    "    \"4s\":[1,0,0,2,3],\n",
    "    \"6s\":[2,1,1,0,0],\n",
    "    \"WD\":[1,0,0,0,1],\n",
    "    \"NB\":[0,0,0,0,0],\n",
    "}\n",
    "\n",
    "ban_bowling_data_df=pd.DataFrame(ban_bowling_data,index=[1,2,3,4,5])\n",
    "ban_bowling_data_df"
   ]
  },
  {
   "cell_type": "code",
   "execution_count": 50,
   "id": "361bfc17",
   "metadata": {},
   "outputs": [],
   "source": [
    "from pandasai import SmartDataframe"
   ]
  },
  {
   "cell_type": "code",
   "execution_count": 51,
   "id": "f41beaae",
   "metadata": {},
   "outputs": [],
   "source": [
    "sdf_afg_bat=SmartDataframe(afg_innings_df)"
   ]
  },
  {
   "cell_type": "code",
   "execution_count": 52,
   "id": "fb47372f",
   "metadata": {},
   "outputs": [
    {
     "data": {
      "text/plain": [
       "'The player who scored the most runs is Rahmanullah Gurbaz with 43 runs.'"
      ]
     },
     "execution_count": 52,
     "metadata": {},
     "output_type": "execute_result"
    }
   ],
   "source": [
    "sdf_afg_bat.chat(\"Who scored a more runs?\")"
   ]
  },
  {
   "cell_type": "code",
   "execution_count": 53,
   "id": "fc0e1e31",
   "metadata": {},
   "outputs": [
    {
     "data": {
      "text/html": [
       "<div>\n",
       "<style scoped>\n",
       "    .dataframe tbody tr th:only-of-type {\n",
       "        vertical-align: middle;\n",
       "    }\n",
       "\n",
       "    .dataframe tbody tr th {\n",
       "        vertical-align: top;\n",
       "    }\n",
       "\n",
       "    .dataframe thead th {\n",
       "        text-align: right;\n",
       "    }\n",
       "</style>\n",
       "<table border=\"1\" class=\"dataframe\">\n",
       "  <thead>\n",
       "    <tr style=\"text-align: right;\">\n",
       "      <th></th>\n",
       "      <th>Batsman</th>\n",
       "      <th>Dismissal</th>\n",
       "      <th>Run</th>\n",
       "      <th>Balls</th>\n",
       "      <th>4s</th>\n",
       "      <th>6s</th>\n",
       "      <th>SR</th>\n",
       "    </tr>\n",
       "  </thead>\n",
       "  <tbody>\n",
       "    <tr>\n",
       "      <th>7</th>\n",
       "      <td>Rashid Khan (c)</td>\n",
       "      <td>Not Out</td>\n",
       "      <td>19</td>\n",
       "      <td>10</td>\n",
       "      <td>0</td>\n",
       "      <td>3</td>\n",
       "      <td>190.000000</td>\n",
       "    </tr>\n",
       "    <tr>\n",
       "      <th>4</th>\n",
       "      <td>Gulbadin Naib</td>\n",
       "      <td>c Soumya Sarkar b Rishad Hossain</td>\n",
       "      <td>4</td>\n",
       "      <td>3</td>\n",
       "      <td>1</td>\n",
       "      <td>1</td>\n",
       "      <td>133.333333</td>\n",
       "    </tr>\n",
       "    <tr>\n",
       "      <th>6</th>\n",
       "      <td>Karim Janat</td>\n",
       "      <td>Not Out</td>\n",
       "      <td>7</td>\n",
       "      <td>6</td>\n",
       "      <td>1</td>\n",
       "      <td>0</td>\n",
       "      <td>116.666667</td>\n",
       "    </tr>\n",
       "  </tbody>\n",
       "</table>\n",
       "</div>"
      ],
      "text/plain": [
       "           Batsman                         Dismissal  Run  Balls  4s  6s  \\\n",
       "7  Rashid Khan (c)                           Not Out   19     10   0   3   \n",
       "4    Gulbadin Naib  c Soumya Sarkar b Rishad Hossain    4      3   1   1   \n",
       "6      Karim Janat                           Not Out    7      6   1   0   \n",
       "\n",
       "           SR  \n",
       "7  190.000000  \n",
       "4  133.333333  \n",
       "6  116.666667  "
      ]
     },
     "execution_count": 53,
     "metadata": {},
     "output_type": "execute_result"
    }
   ],
   "source": [
    "sdf_afg_bat.chat(\"Who has better SR and give top 3 people\")"
   ]
  },
  {
   "cell_type": "code",
   "execution_count": 64,
   "id": "32ae3e86",
   "metadata": {},
   "outputs": [
    {
     "data": {
      "image/png": "[encoded data removed]",
      "text/plain": [
       "<Figure size 640x480 with 1 Axes>"
      ]
     },
     "metadata": {},
     "output_type": "display_data"
    },
    {
     "data": {
      "text/plain": [
       "'C:/Users/DELL/exports/charts/temp_chart.png'"
      ]
     },
     "execution_count": 64,
     "metadata": {},
     "output_type": "execute_result"
    }
   ],
   "source": [
    "sdf_afg_bat.chat(\"Plot a chart of Balls\")"
   ]
  },
  {
   "cell_type": "code",
   "execution_count": 55,
   "id": "5b2e7525",
   "metadata": {},
   "outputs": [],
   "source": [
    "sdf_ban_bat=SmartDataframe(ban_innings_df)"
   ]
  },
  {
   "cell_type": "code",
   "execution_count": 56,
   "id": "c8234f41",
   "metadata": {},
   "outputs": [
    {
     "data": {
      "text/plain": [
       "'The player who scored the most runs is Litton Das (wk) with 54 runs.'"
      ]
     },
     "execution_count": 56,
     "metadata": {},
     "output_type": "execute_result"
    }
   ],
   "source": [
    "sdf_ban_bat.chat(\"Who scored a more runs?\")"
   ]
  },
  {
   "cell_type": "code",
   "execution_count": 57,
   "id": "9f0bb5b9",
   "metadata": {},
   "outputs": [
    {
     "data": {
      "text/html": [
       "<div>\n",
       "<style scoped>\n",
       "    .dataframe tbody tr th:only-of-type {\n",
       "        vertical-align: middle;\n",
       "    }\n",
       "\n",
       "    .dataframe tbody tr th {\n",
       "        vertical-align: top;\n",
       "    }\n",
       "\n",
       "    .dataframe thead th {\n",
       "        text-align: right;\n",
       "    }\n",
       "</style>\n",
       "<table border=\"1\" class=\"dataframe\">\n",
       "  <thead>\n",
       "    <tr style=\"text-align: right;\">\n",
       "      <th></th>\n",
       "      <th>Batsman</th>\n",
       "      <th>Dismissal</th>\n",
       "      <th>Run</th>\n",
       "      <th>Balls</th>\n",
       "      <th>4s</th>\n",
       "      <th>6s</th>\n",
       "      <th>SR</th>\n",
       "    </tr>\n",
       "  </thead>\n",
       "  <tbody>\n",
       "    <tr>\n",
       "      <th>6</th>\n",
       "      <td>Towhid Hridoy</td>\n",
       "      <td>c Ibrahim Zadran b Rashid Khan</td>\n",
       "      <td>14</td>\n",
       "      <td>9</td>\n",
       "      <td>2</td>\n",
       "      <td>0</td>\n",
       "      <td>155.56</td>\n",
       "    </tr>\n",
       "    <tr>\n",
       "      <th>1</th>\n",
       "      <td>Litton Das (wk)</td>\n",
       "      <td>Not Out</td>\n",
       "      <td>54</td>\n",
       "      <td>49</td>\n",
       "      <td>5</td>\n",
       "      <td>1</td>\n",
       "      <td>110.20</td>\n",
       "    </tr>\n",
       "    <tr>\n",
       "      <th>3</th>\n",
       "      <td>Najmul Hossain Shanto (c)</td>\n",
       "      <td>c Nabi b Naveen-ul-Haq</td>\n",
       "      <td>5</td>\n",
       "      <td>5</td>\n",
       "      <td>1</td>\n",
       "      <td>0</td>\n",
       "      <td>100.00</td>\n",
       "    </tr>\n",
       "  </tbody>\n",
       "</table>\n",
       "</div>"
      ],
      "text/plain": [
       "                     Batsman                       Dismissal  Run  Balls  4s  \\\n",
       "6              Towhid Hridoy  c Ibrahim Zadran b Rashid Khan   14      9   2   \n",
       "1            Litton Das (wk)                         Not Out   54     49   5   \n",
       "3  Najmul Hossain Shanto (c)          c Nabi b Naveen-ul-Haq    5      5   1   \n",
       "\n",
       "   6s      SR  \n",
       "6   0  155.56  \n",
       "1   1  110.20  \n",
       "3   0  100.00  "
      ]
     },
     "execution_count": 57,
     "metadata": {},
     "output_type": "execute_result"
    }
   ],
   "source": [
    "sdf_ban_bat.chat(\"Who has better SR and give top 3 people\")"
   ]
  },
  {
   "cell_type": "code",
   "execution_count": 58,
   "id": "5132cecb",
   "metadata": {},
   "outputs": [
    {
     "data": {
      "text/plain": [
       "'C:/Users/DELL/exports/charts/temp_chart.png'"
      ]
     },
     "execution_count": 58,
     "metadata": {},
     "output_type": "execute_result"
    },
    {
     "data": {
      "image/png": "[encoded data removed]",
      "text/plain": [
       "<Figure size 1000x600 with 1 Axes>"
      ]
     },
     "metadata": {},
     "output_type": "display_data"
    }
   ],
   "source": [
    "sdf_ban_bat.chat(\"Plot a chart of the Balls\")"
   ]
  },
  {
   "cell_type": "code",
   "execution_count": 73,
   "id": "de767676",
   "metadata": {},
   "outputs": [],
   "source": [
    "from pandasai import SmartDatalake\n",
    "from pandasai.llm import OpenAI\n",
    "\n",
    "os.environ['OPENAI_API_KEY']=\"<YOUR KEY>\"\n",
    "\n",
    "llm=OpenAI(temperature=0.7)\n",
    "\n",
    "#To work with two DataFrame at a time\n",
    "\n",
    "batting=SmartDatalake([afg_innings_df, ban_innings_df],config={\"llm\": llm})"
   ]
  },
  {
   "cell_type": "code",
   "execution_count": 74,
   "id": "677802e2",
   "metadata": {},
   "outputs": [
    {
     "data": {
      "text/html": [
       "<div>\n",
       "<style scoped>\n",
       "    .dataframe tbody tr th:only-of-type {\n",
       "        vertical-align: middle;\n",
       "    }\n",
       "\n",
       "    .dataframe tbody tr th {\n",
       "        vertical-align: top;\n",
       "    }\n",
       "\n",
       "    .dataframe thead th {\n",
       "        text-align: right;\n",
       "    }\n",
       "</style>\n",
       "<table border=\"1\" class=\"dataframe\">\n",
       "  <thead>\n",
       "    <tr style=\"text-align: right;\">\n",
       "      <th></th>\n",
       "      <th>Batsman</th>\n",
       "      <th>Dismissal</th>\n",
       "      <th>Run</th>\n",
       "      <th>Balls</th>\n",
       "      <th>4s</th>\n",
       "      <th>6s</th>\n",
       "      <th>SR</th>\n",
       "    </tr>\n",
       "  </thead>\n",
       "  <tbody>\n",
       "    <tr>\n",
       "      <th>1</th>\n",
       "      <td>Litton Das (wk)</td>\n",
       "      <td>Not Out</td>\n",
       "      <td>54</td>\n",
       "      <td>49</td>\n",
       "      <td>5</td>\n",
       "      <td>1</td>\n",
       "      <td>110.200000</td>\n",
       "    </tr>\n",
       "    <tr>\n",
       "      <th>1</th>\n",
       "      <td>Rahmanullah Gurbaz</td>\n",
       "      <td>c Soumya Sarkar b Rishad Hossain</td>\n",
       "      <td>43</td>\n",
       "      <td>55</td>\n",
       "      <td>3</td>\n",
       "      <td>1</td>\n",
       "      <td>78.181818</td>\n",
       "    </tr>\n",
       "    <tr>\n",
       "      <th>7</th>\n",
       "      <td>Rashid Khan (c)</td>\n",
       "      <td>Not Out</td>\n",
       "      <td>19</td>\n",
       "      <td>10</td>\n",
       "      <td>0</td>\n",
       "      <td>3</td>\n",
       "      <td>190.000000</td>\n",
       "    </tr>\n",
       "  </tbody>\n",
       "</table>\n",
       "</div>"
      ],
      "text/plain": [
       "              Batsman                         Dismissal  Run  Balls  4s  6s  \\\n",
       "1     Litton Das (wk)                           Not Out   54     49   5   1   \n",
       "1  Rahmanullah Gurbaz  c Soumya Sarkar b Rishad Hossain   43     55   3   1   \n",
       "7     Rashid Khan (c)                           Not Out   19     10   0   3   \n",
       "\n",
       "           SR  \n",
       "1  110.200000  \n",
       "1   78.181818  \n",
       "7  190.000000  "
      ]
     },
     "execution_count": 74,
     "metadata": {},
     "output_type": "execute_result"
    }
   ],
   "source": [
    "batting.chat(\"Give me top 3 batmans based on Run\")"
   ]
  },
  {
   "cell_type": "code",
   "execution_count": 75,
   "id": "078c8b8a",
   "metadata": {},
   "outputs": [
    {
     "data": {
      "text/html": [
       "<div>\n",
       "<style scoped>\n",
       "    .dataframe tbody tr th:only-of-type {\n",
       "        vertical-align: middle;\n",
       "    }\n",
       "\n",
       "    .dataframe tbody tr th {\n",
       "        vertical-align: top;\n",
       "    }\n",
       "\n",
       "    .dataframe thead th {\n",
       "        text-align: right;\n",
       "    }\n",
       "</style>\n",
       "<table border=\"1\" class=\"dataframe\">\n",
       "  <thead>\n",
       "    <tr style=\"text-align: right;\">\n",
       "      <th></th>\n",
       "      <th>Batsman</th>\n",
       "      <th>Dismissal</th>\n",
       "      <th>Run</th>\n",
       "      <th>Balls</th>\n",
       "      <th>4s</th>\n",
       "      <th>6s</th>\n",
       "      <th>SR</th>\n",
       "    </tr>\n",
       "  </thead>\n",
       "  <tbody>\n",
       "    <tr>\n",
       "      <th>7</th>\n",
       "      <td>Rashid Khan (c)</td>\n",
       "      <td>Not Out</td>\n",
       "      <td>19</td>\n",
       "      <td>10</td>\n",
       "      <td>0</td>\n",
       "      <td>3</td>\n",
       "      <td>190.000000</td>\n",
       "    </tr>\n",
       "    <tr>\n",
       "      <th>6</th>\n",
       "      <td>Towhid Hridoy</td>\n",
       "      <td>c Ibrahim Zadran b Rashid Khan</td>\n",
       "      <td>14</td>\n",
       "      <td>9</td>\n",
       "      <td>2</td>\n",
       "      <td>0</td>\n",
       "      <td>155.560000</td>\n",
       "    </tr>\n",
       "    <tr>\n",
       "      <th>4</th>\n",
       "      <td>Gulbadin Naib</td>\n",
       "      <td>c Soumya Sarkar b Rishad Hossain</td>\n",
       "      <td>4</td>\n",
       "      <td>3</td>\n",
       "      <td>1</td>\n",
       "      <td>1</td>\n",
       "      <td>133.333333</td>\n",
       "    </tr>\n",
       "  </tbody>\n",
       "</table>\n",
       "</div>"
      ],
      "text/plain": [
       "           Batsman                         Dismissal  Run  Balls  4s  6s  \\\n",
       "7  Rashid Khan (c)                           Not Out   19     10   0   3   \n",
       "6    Towhid Hridoy    c Ibrahim Zadran b Rashid Khan   14      9   2   0   \n",
       "4    Gulbadin Naib  c Soumya Sarkar b Rishad Hossain    4      3   1   1   \n",
       "\n",
       "           SR  \n",
       "7  190.000000  \n",
       "6  155.560000  \n",
       "4  133.333333  "
      ]
     },
     "execution_count": 75,
     "metadata": {},
     "output_type": "execute_result"
    }
   ],
   "source": [
    "batting.chat(\"Give me top 3 batmans based on SR\")"
   ]
  },
  {
   "cell_type": "code",
   "execution_count": 76,
   "id": "da623fe8",
   "metadata": {},
   "outputs": [
    {
     "data": {
      "text/plain": [
       "'The player who played the most number of balls is Rahmanullah Gurbaz with 55 balls.'"
      ]
     },
     "execution_count": 76,
     "metadata": {},
     "output_type": "execute_result"
    }
   ],
   "source": [
    "batting.chat(\"Who played most number of Balls?\")"
   ]
  },
  {
   "cell_type": "code",
   "execution_count": 78,
   "id": "704dedd7",
   "metadata": {},
   "outputs": [
    {
     "data": {
      "text/html": [
       "<div>\n",
       "<style scoped>\n",
       "    .dataframe tbody tr th:only-of-type {\n",
       "        vertical-align: middle;\n",
       "    }\n",
       "\n",
       "    .dataframe tbody tr th {\n",
       "        vertical-align: top;\n",
       "    }\n",
       "\n",
       "    .dataframe thead th {\n",
       "        text-align: right;\n",
       "    }\n",
       "</style>\n",
       "<table border=\"1\" class=\"dataframe\">\n",
       "  <thead>\n",
       "    <tr style=\"text-align: right;\">\n",
       "      <th></th>\n",
       "      <th>Batsman</th>\n",
       "      <th>Dismissal</th>\n",
       "      <th>Run</th>\n",
       "      <th>Balls</th>\n",
       "      <th>4s</th>\n",
       "      <th>6s</th>\n",
       "      <th>SR</th>\n",
       "    </tr>\n",
       "  </thead>\n",
       "  <tbody>\n",
       "    <tr>\n",
       "      <th>1</th>\n",
       "      <td>Rahmanullah Gurbaz</td>\n",
       "      <td>c Soumya Sarkar b Rishad Hossain</td>\n",
       "      <td>43</td>\n",
       "      <td>55</td>\n",
       "      <td>3</td>\n",
       "      <td>1</td>\n",
       "      <td>78.181818</td>\n",
       "    </tr>\n",
       "    <tr>\n",
       "      <th>1</th>\n",
       "      <td>Litton Das (wk)</td>\n",
       "      <td>Not Out</td>\n",
       "      <td>54</td>\n",
       "      <td>49</td>\n",
       "      <td>5</td>\n",
       "      <td>1</td>\n",
       "      <td>110.200000</td>\n",
       "    </tr>\n",
       "    <tr>\n",
       "      <th>2</th>\n",
       "      <td>Ibrahim Zadran</td>\n",
       "      <td>c Tanzim Hasan Sakib b Rishad Hossain</td>\n",
       "      <td>18</td>\n",
       "      <td>29</td>\n",
       "      <td>1</td>\n",
       "      <td>0</td>\n",
       "      <td>62.068966</td>\n",
       "    </tr>\n",
       "  </tbody>\n",
       "</table>\n",
       "</div>"
      ],
      "text/plain": [
       "              Batsman                              Dismissal  Run  Balls  4s  \\\n",
       "1  Rahmanullah Gurbaz       c Soumya Sarkar b Rishad Hossain   43     55   3   \n",
       "1     Litton Das (wk)                                Not Out   54     49   5   \n",
       "2      Ibrahim Zadran  c Tanzim Hasan Sakib b Rishad Hossain   18     29   1   \n",
       "\n",
       "   6s          SR  \n",
       "1   1   78.181818  \n",
       "1   1  110.200000  \n",
       "2   0   62.068966  "
      ]
     },
     "execution_count": 78,
     "metadata": {},
     "output_type": "execute_result"
    }
   ],
   "source": [
    "batting.chat(\"Give me 3 Batsman who played most number of Balls\")"
   ]
  },
  {
   "cell_type": "code",
   "execution_count": 81,
   "id": "89b1f283",
   "metadata": {},
   "outputs": [
    {
     "data": {
      "text/plain": [
       "'The best batsman based on Run and SR is Litton Das (wk)'"
      ]
     },
     "execution_count": 81,
     "metadata": {},
     "output_type": "execute_result"
    }
   ],
   "source": [
    "batting.chat(\"Give me the best Batsman based on Run and SR\")"
   ]
  },
  {
   "cell_type": "code",
   "execution_count": 83,
   "id": "57d54450",
   "metadata": {},
   "outputs": [
    {
     "data": {
      "text/plain": [
       "'Team 1 has scored more runs compared to Team 2.'"
      ]
     },
     "execution_count": 83,
     "metadata": {},
     "output_type": "execute_result"
    }
   ],
   "source": [
    "batting.chat(\"Drive a conclusion based on Batsman Run from both the team\")"
   ]
  },
  {
   "cell_type": "code",
   "execution_count": 84,
   "id": "5f91100c",
   "metadata": {},
   "outputs": [],
   "source": [
    "sdf_afg_ball=SmartDataframe(afg_bowling_data_df)"
   ]
  },
  {
   "cell_type": "code",
   "execution_count": 85,
   "id": "d3973531",
   "metadata": {},
   "outputs": [
    {
     "data": {
      "text/plain": [
       "'The bowler who took the most number of wickets is Naveen-ul-Haq.'"
      ]
     },
     "execution_count": 85,
     "metadata": {},
     "output_type": "execute_result"
    }
   ],
   "source": [
    "sdf_afg_ball.chat(\"Who took More number of wickets?\")"
   ]
  },
  {
   "cell_type": "code",
   "execution_count": 86,
   "id": "d6f9f39f",
   "metadata": {},
   "outputs": [
    {
     "data": {
      "text/plain": [
       "'The bowler with the better Econ is: Gulbadin Naib'"
      ]
     },
     "execution_count": 86,
     "metadata": {},
     "output_type": "execute_result"
    }
   ],
   "source": [
    "sdf_afg_ball.chat(\"Who has better Econ?\")"
   ]
  },
  {
   "cell_type": "code",
   "execution_count": 89,
   "id": "bb91e410",
   "metadata": {},
   "outputs": [
    {
     "data": {
      "text/plain": [
       "'C:/Users/DELL/exports/charts/temp_chart.png'"
      ]
     },
     "execution_count": 89,
     "metadata": {},
     "output_type": "execute_result"
    },
    {
     "data": {
      "image/png": "[encoded data removed]",
      "text/plain": [
       "<Figure size 800x800 with 1 Axes>"
      ]
     },
     "metadata": {},
     "output_type": "display_data"
    }
   ],
   "source": [
    "sdf_afg_ball.chat(\"Plot a pie chart for distribution of Run to total Runs by different Bowler\")"
   ]
  },
  {
   "cell_type": "code",
   "execution_count": 90,
   "id": "923677dc",
   "metadata": {},
   "outputs": [
    {
     "data": {
      "text/html": [
       "<div>\n",
       "<style scoped>\n",
       "    .dataframe tbody tr th:only-of-type {\n",
       "        vertical-align: middle;\n",
       "    }\n",
       "\n",
       "    .dataframe tbody tr th {\n",
       "        vertical-align: top;\n",
       "    }\n",
       "\n",
       "    .dataframe thead th {\n",
       "        text-align: right;\n",
       "    }\n",
       "</style>\n",
       "<table border=\"1\" class=\"dataframe\">\n",
       "  <thead>\n",
       "    <tr style=\"text-align: right;\">\n",
       "      <th></th>\n",
       "      <th>Bowler</th>\n",
       "      <th>Overs</th>\n",
       "      <th>Maidens</th>\n",
       "      <th>Runs</th>\n",
       "      <th>Wickets</th>\n",
       "      <th>Econ</th>\n",
       "      <th>0s</th>\n",
       "      <th>4s</th>\n",
       "      <th>6s</th>\n",
       "      <th>WD</th>\n",
       "      <th>NB</th>\n",
       "    </tr>\n",
       "  </thead>\n",
       "  <tbody>\n",
       "    <tr>\n",
       "      <th>1</th>\n",
       "      <td>Naveen-ul-Haq</td>\n",
       "      <td>3.5</td>\n",
       "      <td>0</td>\n",
       "      <td>26</td>\n",
       "      <td>4</td>\n",
       "      <td>6.8</td>\n",
       "      <td>12</td>\n",
       "      <td>3</td>\n",
       "      <td>1</td>\n",
       "      <td>0</td>\n",
       "      <td>0</td>\n",
       "    </tr>\n",
       "    <tr>\n",
       "      <th>4</th>\n",
       "      <td>Rashid Khan (c)</td>\n",
       "      <td>4.0</td>\n",
       "      <td>0</td>\n",
       "      <td>23</td>\n",
       "      <td>4</td>\n",
       "      <td>5.8</td>\n",
       "      <td>9</td>\n",
       "      <td>2</td>\n",
       "      <td>0</td>\n",
       "      <td>1</td>\n",
       "      <td>0</td>\n",
       "    </tr>\n",
       "  </tbody>\n",
       "</table>\n",
       "</div>"
      ],
      "text/plain": [
       "            Bowler  Overs  Maidens  Runs  Wickets  Econ  0s  4s  6s  WD  NB\n",
       "1    Naveen-ul-Haq    3.5        0    26        4   6.8  12   3   1   0   0\n",
       "4  Rashid Khan (c)    4.0        0    23        4   5.8   9   2   0   1   0"
      ]
     },
     "execution_count": 90,
     "metadata": {},
     "output_type": "execute_result"
    }
   ],
   "source": [
    "sdf_afg_ball.chat(\"Give me 2 best bowler based on Wickets\")"
   ]
  },
  {
   "cell_type": "code",
   "execution_count": 93,
   "id": "2d6b709e",
   "metadata": {},
   "outputs": [],
   "source": [
    "sdf_ban_ball=SmartDataframe(ban_bowling_data_df)"
   ]
  },
  {
   "cell_type": "code",
   "execution_count": 94,
   "id": "41b56e7e",
   "metadata": {},
   "outputs": [
    {
     "data": {
      "text/plain": [
       "'The bowler who took the most number of wickets is Rishad Hossain with 3 wickets.'"
      ]
     },
     "execution_count": 94,
     "metadata": {},
     "output_type": "execute_result"
    }
   ],
   "source": [
    "sdf_ban_ball.chat(\"Who took More number of wickets?\")"
   ]
  },
  {
   "cell_type": "code",
   "execution_count": 95,
   "id": "9f7083c4",
   "metadata": {},
   "outputs": [
    {
     "data": {
      "text/plain": [
       "'The bowler with the better economy rate is: Taskin Ahmed'"
      ]
     },
     "execution_count": 95,
     "metadata": {},
     "output_type": "execute_result"
    }
   ],
   "source": [
    "sdf_ban_ball.chat(\"Who has better Econ?\")"
   ]
  },
  {
   "cell_type": "code",
   "execution_count": 96,
   "id": "70c0bbdf",
   "metadata": {},
   "outputs": [
    {
     "data": {
      "text/plain": [
       "'C:/Users/DELL/exports/charts/temp_chart.png'"
      ]
     },
     "execution_count": 96,
     "metadata": {},
     "output_type": "execute_result"
    },
    {
     "data": {
      "image/png": "[encoded data removed]",
      "text/plain": [
       "<Figure size 800x800 with 1 Axes>"
      ]
     },
     "metadata": {},
     "output_type": "display_data"
    }
   ],
   "source": [
    "sdf_ban_ball.chat(\"Plot a pie chart for distribution of Run to total Runs by different Bowler\")"
   ]
  },
  {
   "cell_type": "code",
   "execution_count": 98,
   "id": "89a7cd32",
   "metadata": {},
   "outputs": [
    {
     "data": {
      "text/html": [
       "<div>\n",
       "<style scoped>\n",
       "    .dataframe tbody tr th:only-of-type {\n",
       "        vertical-align: middle;\n",
       "    }\n",
       "\n",
       "    .dataframe tbody tr th {\n",
       "        vertical-align: top;\n",
       "    }\n",
       "\n",
       "    .dataframe thead th {\n",
       "        text-align: right;\n",
       "    }\n",
       "</style>\n",
       "<table border=\"1\" class=\"dataframe\">\n",
       "  <thead>\n",
       "    <tr style=\"text-align: right;\">\n",
       "      <th></th>\n",
       "      <th>Bowler</th>\n",
       "      <th>Maidens</th>\n",
       "      <th>Runs</th>\n",
       "      <th>Wickets</th>\n",
       "      <th>Econ</th>\n",
       "      <th>0s</th>\n",
       "      <th>4s</th>\n",
       "      <th>6s</th>\n",
       "      <th>WD</th>\n",
       "      <th>NB</th>\n",
       "    </tr>\n",
       "  </thead>\n",
       "  <tbody>\n",
       "    <tr>\n",
       "      <th>5</th>\n",
       "      <td>Rishad Hossain</td>\n",
       "      <td>0</td>\n",
       "      <td>26</td>\n",
       "      <td>3</td>\n",
       "      <td>6.5</td>\n",
       "      <td>13</td>\n",
       "      <td>3</td>\n",
       "      <td>0</td>\n",
       "      <td>1</td>\n",
       "      <td>0</td>\n",
       "    </tr>\n",
       "    <tr>\n",
       "      <th>2</th>\n",
       "      <td>Taskin Ahmed</td>\n",
       "      <td>1</td>\n",
       "      <td>12</td>\n",
       "      <td>1</td>\n",
       "      <td>3.0</td>\n",
       "      <td>19</td>\n",
       "      <td>0</td>\n",
       "      <td>1</td>\n",
       "      <td>0</td>\n",
       "      <td>0</td>\n",
       "    </tr>\n",
       "  </tbody>\n",
       "</table>\n",
       "</div>"
      ],
      "text/plain": [
       "           Bowler  Maidens  Runs  Wickets  Econ  0s  4s  6s  WD  NB\n",
       "5  Rishad Hossain        0    26        3   6.5  13   3   0   1   0\n",
       "2    Taskin Ahmed        1    12        1   3.0  19   0   1   0   0"
      ]
     },
     "execution_count": 98,
     "metadata": {},
     "output_type": "execute_result"
    }
   ],
   "source": [
    "sdf_ban_ball.chat(\"Give me 2 best bowler based on Wickets\")"
   ]
  },
  {
   "cell_type": "code",
   "execution_count": 99,
   "id": "fce78790",
   "metadata": {},
   "outputs": [],
   "source": [
    "bowling=SmartDatalake([afg_bowling_data_df, ban_bowling_data_df],config={\"llm\": llm})"
   ]
  },
  {
   "cell_type": "code",
   "execution_count": 103,
   "id": "01624d7d",
   "metadata": {},
   "outputs": [
    {
     "data": {
      "text/html": [
       "<div>\n",
       "<style scoped>\n",
       "    .dataframe tbody tr th:only-of-type {\n",
       "        vertical-align: middle;\n",
       "    }\n",
       "\n",
       "    .dataframe tbody tr th {\n",
       "        vertical-align: top;\n",
       "    }\n",
       "\n",
       "    .dataframe thead th {\n",
       "        text-align: right;\n",
       "    }\n",
       "</style>\n",
       "<table border=\"1\" class=\"dataframe\">\n",
       "  <thead>\n",
       "    <tr style=\"text-align: right;\">\n",
       "      <th></th>\n",
       "      <th>Bowler</th>\n",
       "      <th>Overs</th>\n",
       "      <th>Maidens</th>\n",
       "      <th>Runs</th>\n",
       "      <th>Wickets</th>\n",
       "      <th>Econ</th>\n",
       "      <th>0s</th>\n",
       "      <th>4s</th>\n",
       "      <th>6s</th>\n",
       "      <th>WD</th>\n",
       "      <th>NB</th>\n",
       "    </tr>\n",
       "  </thead>\n",
       "  <tbody>\n",
       "    <tr>\n",
       "      <th>1</th>\n",
       "      <td>Naveen-ul-Haq</td>\n",
       "      <td>3.5</td>\n",
       "      <td>0</td>\n",
       "      <td>26</td>\n",
       "      <td>4</td>\n",
       "      <td>6.8</td>\n",
       "      <td>12</td>\n",
       "      <td>3</td>\n",
       "      <td>1</td>\n",
       "      <td>0</td>\n",
       "      <td>0</td>\n",
       "    </tr>\n",
       "    <tr>\n",
       "      <th>4</th>\n",
       "      <td>Rashid Khan (c)</td>\n",
       "      <td>4.0</td>\n",
       "      <td>0</td>\n",
       "      <td>23</td>\n",
       "      <td>4</td>\n",
       "      <td>5.8</td>\n",
       "      <td>9</td>\n",
       "      <td>2</td>\n",
       "      <td>0</td>\n",
       "      <td>1</td>\n",
       "      <td>0</td>\n",
       "    </tr>\n",
       "    <tr>\n",
       "      <th>5</th>\n",
       "      <td>Rishad Hossain</td>\n",
       "      <td>NaN</td>\n",
       "      <td>0</td>\n",
       "      <td>26</td>\n",
       "      <td>3</td>\n",
       "      <td>6.5</td>\n",
       "      <td>13</td>\n",
       "      <td>3</td>\n",
       "      <td>0</td>\n",
       "      <td>1</td>\n",
       "      <td>0</td>\n",
       "    </tr>\n",
       "  </tbody>\n",
       "</table>\n",
       "</div>"
      ],
      "text/plain": [
       "            Bowler  Overs  Maidens  Runs  Wickets  Econ  0s  4s  6s  WD  NB\n",
       "1    Naveen-ul-Haq    3.5        0    26        4   6.8  12   3   1   0   0\n",
       "4  Rashid Khan (c)    4.0        0    23        4   5.8   9   2   0   1   0\n",
       "5   Rishad Hossain    NaN        0    26        3   6.5  13   3   0   1   0"
      ]
     },
     "execution_count": 103,
     "metadata": {},
     "output_type": "execute_result"
    }
   ],
   "source": [
    "bowling.chat(\"Give me top 3 Bowler based on Wickets\")"
   ]
  },
  {
   "cell_type": "code",
   "execution_count": 105,
   "id": "d922e88c",
   "metadata": {},
   "outputs": [
    {
     "data": {
      "text/html": [
       "<div>\n",
       "<style scoped>\n",
       "    .dataframe tbody tr th:only-of-type {\n",
       "        vertical-align: middle;\n",
       "    }\n",
       "\n",
       "    .dataframe tbody tr th {\n",
       "        vertical-align: top;\n",
       "    }\n",
       "\n",
       "    .dataframe thead th {\n",
       "        text-align: right;\n",
       "    }\n",
       "</style>\n",
       "<table border=\"1\" class=\"dataframe\">\n",
       "  <thead>\n",
       "    <tr style=\"text-align: right;\">\n",
       "      <th></th>\n",
       "      <th>Bowler</th>\n",
       "      <th>Overs</th>\n",
       "      <th>Maidens</th>\n",
       "      <th>Runs</th>\n",
       "      <th>Wickets</th>\n",
       "      <th>Econ</th>\n",
       "      <th>0s</th>\n",
       "      <th>4s</th>\n",
       "      <th>6s</th>\n",
       "      <th>WD</th>\n",
       "      <th>NB</th>\n",
       "    </tr>\n",
       "  </thead>\n",
       "  <tbody>\n",
       "    <tr>\n",
       "      <th>6</th>\n",
       "      <td>Gulbadin Naib</td>\n",
       "      <td>2.0</td>\n",
       "      <td>0</td>\n",
       "      <td>5</td>\n",
       "      <td>1</td>\n",
       "      <td>2.5</td>\n",
       "      <td>7</td>\n",
       "      <td>0</td>\n",
       "      <td>0</td>\n",
       "      <td>0</td>\n",
       "      <td>0</td>\n",
       "    </tr>\n",
       "    <tr>\n",
       "      <th>2</th>\n",
       "      <td>Taskin Ahmed</td>\n",
       "      <td>NaN</td>\n",
       "      <td>1</td>\n",
       "      <td>12</td>\n",
       "      <td>1</td>\n",
       "      <td>3.0</td>\n",
       "      <td>19</td>\n",
       "      <td>0</td>\n",
       "      <td>1</td>\n",
       "      <td>0</td>\n",
       "      <td>0</td>\n",
       "    </tr>\n",
       "    <tr>\n",
       "      <th>5</th>\n",
       "      <td>Noor Ahmad</td>\n",
       "      <td>4.0</td>\n",
       "      <td>0</td>\n",
       "      <td>13</td>\n",
       "      <td>0</td>\n",
       "      <td>3.2</td>\n",
       "      <td>18</td>\n",
       "      <td>2</td>\n",
       "      <td>0</td>\n",
       "      <td>0</td>\n",
       "      <td>0</td>\n",
       "    </tr>\n",
       "  </tbody>\n",
       "</table>\n",
       "</div>"
      ],
      "text/plain": [
       "          Bowler  Overs  Maidens  Runs  Wickets  Econ  0s  4s  6s  WD  NB\n",
       "6  Gulbadin Naib    2.0        0     5        1   2.5   7   0   0   0   0\n",
       "2   Taskin Ahmed    NaN        1    12        1   3.0  19   0   1   0   0\n",
       "5     Noor Ahmad    4.0        0    13        0   3.2  18   2   0   0   0"
      ]
     },
     "execution_count": 105,
     "metadata": {},
     "output_type": "execute_result"
    }
   ],
   "source": [
    "bowling.chat(\"Give me top 3 Bowler based on Econ\")"
   ]
  },
  {
   "cell_type": "code",
   "execution_count": 107,
   "id": "56d101b2",
   "metadata": {},
   "outputs": [
    {
     "data": {
      "text/plain": [
       "\"Team 1's bowlers performed better in terms of conceding runs compared to Team 2's bowlers.\""
      ]
     },
     "execution_count": 107,
     "metadata": {},
     "output_type": "execute_result"
    }
   ],
   "source": [
    "bowling.chat(\"Drive a conclusion based on Bowler from both the team\")"
   ]
  },
  {
   "cell_type": "code",
   "execution_count": 110,
   "id": "01e2ca8e",
   "metadata": {},
   "outputs": [
    {
     "data": {
      "text/plain": [
       "'The best bowler based on Econ and Wickets for Team 1 is Noor Ahmad and for Team 2 is Rishad Hossain.'"
      ]
     },
     "execution_count": 110,
     "metadata": {},
     "output_type": "execute_result"
    }
   ],
   "source": [
    "bowling.chat(\"Give me the best Bowler based on Econ and Wickets\")"
   ]
  },
  {
   "cell_type": "code",
   "execution_count": null,
   "id": "21e6967c",
   "metadata": {},
   "outputs": [],
   "source": []
  }
 ],
 "metadata": {
  "kernelspec": {
   "display_name": "Python 3 (ipykernel)",
   "language": "python",
   "name": "python3"
  },
  "language_info": {
   "codemirror_mode": {
    "name": "ipython",
    "version": 3
   },
   "file_extension": ".py",
   "mimetype": "text/x-python",
   "name": "python",
   "nbconvert_exporter": "python",
   "pygments_lexer": "ipython3",
   "version": "3.9.16"
  }
 },
 "nbformat": 4,
 "nbformat_minor": 5
}
